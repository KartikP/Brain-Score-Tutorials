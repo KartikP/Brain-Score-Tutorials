{
 "cells": [
  {
   "cell_type": "markdown",
   "metadata": {},
   "source": [
    "### This will eventually become your `data_packaging.py` file"
   ]
  },
  {
   "cell_type": "code",
   "execution_count": 2,
   "metadata": {},
   "outputs": [],
   "source": [
    "from brainio.stimuli import StimulusSet\n",
    "from brainio.packaging import (package_stimulus_set, package_data_assembly)\n",
    "from brainio.assemblies import DataAssembly, NeuroidAssembly\n",
    "\n",
    "import glob\n",
    "import os.path as op\n",
    "import pickle as pkl\n",
    "from itertools import product as itp\n",
    "import numpy as np"
   ]
  },
  {
   "cell_type": "markdown",
   "metadata": {},
   "source": [
    "Again, remember that there are two components to a `DataAssembly`. These two components consist of the neural data and it's associated metadata (packaged into a `NeuroidAssembly`), and a `StimulusSet` that contains the metadata for the stimuli.\n",
    "\n",
    "The following are necessary to create a `StimulusSet`:\n",
    "- All images must be in PNG format and be the same size.\n",
    "- As much information as possible to describe the dataset, stored in various coordinates (e.g., rotation, occlusion, color, category, imagenet_class_description, etc.)\n",
    "- "
   ]
  }
 ],
 "metadata": {
  "kernelspec": {
   "display_name": "benchmark",
   "language": "python",
   "name": "python3"
  },
  "language_info": {
   "codemirror_mode": {
    "name": "ipython",
    "version": 3
   },
   "file_extension": ".py",
   "mimetype": "text/x-python",
   "name": "python",
   "nbconvert_exporter": "python",
   "pygments_lexer": "ipython3",
   "version": "3.11.11"
  }
 },
 "nbformat": 4,
 "nbformat_minor": 2
}
